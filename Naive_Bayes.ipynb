{
 "cells": [
  {
   "cell_type": "code",
   "execution_count": 1,
   "id": "7b04c7a3",
   "metadata": {},
   "outputs": [
    {
     "name": "stdout",
     "output_type": "stream",
     "text": [
      "2023-08-31 20:03:08 [INFO    ] *** LOAD DATASET ***\n",
      "2023-08-31 20:03:08 [INFO    ] *** CLEANING DATAFRAME ***\n",
      "2023-08-31 20:03:08 [INFO    ] *** DATASET PARTITIONED IN TRAIN: 397 TEST: 171\n",
      "2023-08-31 20:03:08 [INFO    ] *** TRAINING END ***\n",
      "2023-08-31 20:03:08 [INFO    ] Positive Class: 148\n",
      "2023-08-31 20:03:08 [INFO    ] Negative Class: 23\n",
      "2023-08-31 20:03:08 [INFO    ] Accuracy: 86.54970760233918\n"
     ]
    },
    {
     "name": "stderr",
     "output_type": "stream",
     "text": [
      "E:\\jupyter_new\\lib\\site-packages\\sklearn\\utils\\validation.py:964: FutureWarning: Arrays of bytes/strings is being converted to decimal numbers if dtype='numeric'. This behavior is deprecated in 0.24 and will be removed in 1.1 (renaming of 0.26). Please convert your data to numeric values explicitly instead.\n",
      "  X = check_array(\n",
      "E:\\jupyter_new\\lib\\site-packages\\sklearn\\base.py:566: FutureWarning: Arrays of bytes/strings is being converted to decimal numbers if dtype='numeric'. This behavior is deprecated in 0.24 and will be removed in 1.1 (renaming of 0.26). Please convert your data to numeric values explicitly instead.\n",
      "  X = check_array(X, **check_params)\n"
     ]
    }
   ],
   "source": [
    "from __future__ import division\n",
    "import numpy as np # linear algebra\n",
    "import pandas as pd\n",
    "from sklearn.utils import shuffle\n",
    "from sklearn.model_selection import train_test_split\n",
    "from sklearn.naive_bayes import MultinomialNB\n",
    "import logging,sys\n",
    "\n",
    "FORMAT = '%(asctime)-15s [%(levelname)-8s] %(message)s'\n",
    "logging.basicConfig(stream=sys.stdout,format=FORMAT, level=logging.INFO, datefmt='%Y-%m-%d %H:%M:%I')\n",
    "console = logging.StreamHandler()\n",
    "console.setLevel(logging.INFO)\n",
    "#formatter = logging.Formatter(FORMAT)\n",
    "#console.setFormatter(formatter)\n",
    "#logging.getLogger('').addHandler(console)\n",
    "\n",
    "\n",
    "#read data from dataset\n",
    "logging.info(\"*** LOAD DATASET ***\")\n",
    "dataset = shuffle(np.array(pd.read_csv(\"dataset.csv\",header=1)))\n",
    "\n",
    "#data frame\n",
    "logging.info(\"*** CLEANING DATAFRAME ***\")\n",
    "data_frame = pd.read_csv(\"dataset.csv\",header=1)\n",
    "data_frame.drop(data_frame.columns[[0]], axis=1, inplace=True)\n",
    "dataset = shuffle(np.array(data_frame))\n",
    "\n",
    "extracted_dataset= []\n",
    "target = []\n",
    "\n",
    "#extract target column\n",
    "for row in dataset:\n",
    "    extracted_dataset.append(row[1:])\n",
    "    target.append(row[0])\n",
    "\n",
    "\n",
    "X_train, X_test, Y_train, Y_test= train_test_split(extracted_dataset,target,test_size=0.3)\n",
    "logging.info(\"*** DATASET PARTITIONED IN TRAIN: \"+str(len(X_train))+ \" TEST: \"+str(len(X_test)))\n",
    "\n",
    "\n",
    "model = MultinomialNB(alpha=1.0, class_prior=None, fit_prior=True)\n",
    "model.fit(X_train,Y_train)\n",
    "logging.info(\"*** TRAINING END ***\")\n",
    "\n",
    "predicted = model.predict(X_test)\n",
    "\n",
    "idx = 0\n",
    "true = 0\n",
    "false = 0\n",
    "for i in X_test:\n",
    "    #logging.info(\"*** Pred:\"+str(predicted[idx])+\" real: \"+str(Y_test[idx])+\" res \"+str(predicted[idx]==Y_test[idx])+\" ***\")\n",
    "\n",
    "    if predicted[idx]==Y_test[idx]:\n",
    "        true +=1\n",
    "    else:\n",
    "        false +=1\n",
    "    idx +=1\n",
    "\n",
    "accuracy =  (true/(true+false))*100\n",
    "logging.info(\"Positive Class: \"+str(true))\n",
    "logging.info(\"Negative Class: \"+str(false))\n",
    "logging.info(\"Accuracy: \"+str(accuracy))\n"
   ]
  },
  {
   "cell_type": "code",
   "execution_count": null,
   "id": "ae2c6c0c",
   "metadata": {},
   "outputs": [],
   "source": []
  }
 ],
 "metadata": {
  "kernelspec": {
   "display_name": "Python 3 (ipykernel)",
   "language": "python",
   "name": "python3"
  },
  "language_info": {
   "codemirror_mode": {
    "name": "ipython",
    "version": 3
   },
   "file_extension": ".py",
   "mimetype": "text/x-python",
   "name": "python",
   "nbconvert_exporter": "python",
   "pygments_lexer": "ipython3",
   "version": "3.9.13"
  }
 },
 "nbformat": 4,
 "nbformat_minor": 5
}
