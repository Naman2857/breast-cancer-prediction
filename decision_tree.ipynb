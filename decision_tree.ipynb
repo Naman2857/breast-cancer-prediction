{
 "cells": [
  {
   "cell_type": "code",
   "execution_count": 1,
   "id": "d8bd52fb",
   "metadata": {},
   "outputs": [
    {
     "name": "stdout",
     "output_type": "stream",
     "text": [
      "2023-08-31 19:28:07 [INFO    ] *** LOAD DATASET ***\n",
      "2023-08-31 19:28:07 [INFO    ] *** CLEANING DATAFRAME ***\n",
      "2023-08-31 19:28:07 [INFO    ] *** DATASET PARTITIONED IN TRAIN: 397 TEST: 171\n",
      "2023-08-31 19:28:07 [INFO    ] *** TRAINING END ***\n",
      "2023-08-31 19:28:07 [INFO    ] Positive Class: 156\n",
      "2023-08-31 19:28:07 [INFO    ] Negative Class: 15\n",
      "2023-08-31 19:28:07 [INFO    ] Accuracy Regressor: 91.22807017543859\n"
     ]
    }
   ],
   "source": [
    "from __future__ import division\n",
    "import numpy as np # linear algebra\n",
    "import pandas as pd\n",
    "from sklearn.utils import shuffle\n",
    "from sklearn.model_selection import train_test_split\n",
    "from sklearn.tree import DecisionTreeRegressor\n",
    "import logging,sys\n",
    "\n",
    "FORMAT = '%(asctime)-15s [%(levelname)-8s] %(message)s'\n",
    "logging.basicConfig(stream=sys.stdout,format=FORMAT, level=logging.INFO, datefmt='%Y-%m-%d %H:%M:%I')\n",
    "console = logging.StreamHandler()\n",
    "console.setLevel(logging.INFO)\n",
    "\n",
    "\n",
    "\n",
    "#read data from dataset\n",
    "logging.info(\"*** LOAD DATASET ***\")\n",
    "dataset = shuffle(np.array(pd.read_csv(\"dataset.csv\",header=1)))\n",
    "\n",
    "#data frame\n",
    "logging.info(\"*** CLEANING DATAFRAME ***\")\n",
    "data_frame = pd.read_csv(\"dataset.csv\",header=1)\n",
    "data_frame.drop(data_frame.columns[[0]], axis=1, inplace=True)\n",
    "dataset = shuffle(np.array(data_frame))\n",
    "\n",
    "extracted_dataset= []\n",
    "target = []\n",
    "\n",
    "#extract target column\n",
    "for row in dataset:\n",
    "    extracted_dataset.append(row[1:])\n",
    "    if row[0] == 'B':\n",
    "        target.append(0)\n",
    "    else:\n",
    "        target.append(1)\n",
    "\n",
    "\n",
    "X_train, X_test, Y_train, Y_test= train_test_split(extracted_dataset,target,test_size=0.3)\n",
    "logging.info(\"*** DATASET PARTITIONED IN TRAIN: \"+str(len(X_train))+ \" TEST: \"+str(len(X_test)))\n",
    "\n",
    "clf_regressor = DecisionTreeRegressor(max_depth = 50)\n",
    "clf_regressor .fit(X_train,Y_train)\n",
    "\n",
    "logging.info(\"*** TRAINING END ***\")\n",
    "predicted_regressor = clf_regressor .predict(X_test)\n",
    "\n",
    "idx = 0\n",
    "true = 0\n",
    "false = 0\n",
    "for i in X_test:\n",
    "    #logging.info(\"*** Pred:\"+str(predicted[idx])+\" real: \"+str(Y_test[idx])+\" res \"+str(predicted[idx]==Y_test[idx])+\" ***\")\n",
    "\n",
    "    if predicted_regressor[idx]==Y_test[idx]:\n",
    "        true +=1\n",
    "    else:\n",
    "        false +=1\n",
    "    idx +=1\n",
    "\n",
    "accuracy =  (true/(true+false))*100\n",
    "logging.info(\"Positive Class: \"+str(true))\n",
    "logging.info(\"Negative Class: \"+str(false))\n",
    "logging.info(\"Accuracy Regressor: \"+str(accuracy))"
   ]
  },
  {
   "cell_type": "code",
   "execution_count": 3,
   "id": "673cc6b7",
   "metadata": {},
   "outputs": [
    {
     "data": {
      "text/plain": [
       "array([['B', 12.18, 17.84, ..., 0.05882, 0.2227, 0.07376],\n",
       "       ['M', 17.57, 15.05, ..., 0.1456, 0.2756, 0.07919],\n",
       "       ['B', 11.46, 18.16, ..., 0.05509, 0.2208, 0.07638],\n",
       "       ...,\n",
       "       ['B', 14.95, 18.77, ..., 0.08405, 0.2852, 0.09218],\n",
       "       ['B', 11.89, 21.17, ..., 0.08263, 0.3075, 0.07351],\n",
       "       ['M', 18.46, 18.52, ..., 0.1642, 0.3695, 0.08579]], dtype=object)"
      ]
     },
     "execution_count": 3,
     "metadata": {},
     "output_type": "execute_result"
    }
   ],
   "source": [
    "dataset"
   ]
  },
  {
   "cell_type": "code",
   "execution_count": null,
   "id": "f0709189",
   "metadata": {},
   "outputs": [],
   "source": []
  }
 ],
 "metadata": {
  "kernelspec": {
   "display_name": "Python 3 (ipykernel)",
   "language": "python",
   "name": "python3"
  },
  "language_info": {
   "codemirror_mode": {
    "name": "ipython",
    "version": 3
   },
   "file_extension": ".py",
   "mimetype": "text/x-python",
   "name": "python",
   "nbconvert_exporter": "python",
   "pygments_lexer": "ipython3",
   "version": "3.9.13"
  }
 },
 "nbformat": 4,
 "nbformat_minor": 5
}
